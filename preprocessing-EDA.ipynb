{
 "cells": [
  {
   "cell_type": "code",
   "execution_count": 2,
   "metadata": {
    "scrolled": true
   },
   "outputs": [
    {
     "ename": "ImportError",
     "evalue": "cannot import name 'MapWrapper'",
     "output_type": "error",
     "traceback": [
      "\u001b[0;31m---------------------------------------------------------------------------\u001b[0m",
      "\u001b[0;31mImportError\u001b[0m                               Traceback (most recent call last)",
      "\u001b[0;32m<ipython-input-2-ac40b0d0ac40>\u001b[0m in \u001b[0;36m<module>\u001b[0;34m()\u001b[0m\n\u001b[1;32m      2\u001b[0m \u001b[0;32mimport\u001b[0m \u001b[0mnumpy\u001b[0m \u001b[0;32mas\u001b[0m \u001b[0mnp\u001b[0m\u001b[0;34m\u001b[0m\u001b[0;34m\u001b[0m\u001b[0m\n\u001b[1;32m      3\u001b[0m \u001b[0;32mimport\u001b[0m \u001b[0mmatplotlib\u001b[0m\u001b[0;34m.\u001b[0m\u001b[0mpyplot\u001b[0m \u001b[0;32mas\u001b[0m \u001b[0mplt\u001b[0m\u001b[0;34m\u001b[0m\u001b[0;34m\u001b[0m\u001b[0m\n\u001b[0;32m----> 4\u001b[0;31m \u001b[0;32mimport\u001b[0m \u001b[0mseaborn\u001b[0m \u001b[0;32mas\u001b[0m \u001b[0msns\u001b[0m\u001b[0;34m\u001b[0m\u001b[0;34m\u001b[0m\u001b[0m\n\u001b[0m\u001b[1;32m      5\u001b[0m \u001b[0;32mimport\u001b[0m \u001b[0mre\u001b[0m\u001b[0;34m\u001b[0m\u001b[0;34m\u001b[0m\u001b[0m\n\u001b[1;32m      6\u001b[0m \u001b[0;32mimport\u001b[0m \u001b[0mclean_preprocess_white_house\u001b[0m \u001b[0;32mas\u001b[0m \u001b[0mcpp_wh\u001b[0m\u001b[0;34m\u001b[0m\u001b[0;34m\u001b[0m\u001b[0m\n",
      "\u001b[0;32m~/anaconda3/lib/python3.6/site-packages/seaborn/__init__.py\u001b[0m in \u001b[0;36m<module>\u001b[0;34m()\u001b[0m\n\u001b[1;32m      4\u001b[0m \u001b[0;34m\u001b[0m\u001b[0m\n\u001b[1;32m      5\u001b[0m \u001b[0;31m# Import seaborn objects\u001b[0m\u001b[0;34m\u001b[0m\u001b[0;34m\u001b[0m\u001b[0;34m\u001b[0m\u001b[0m\n\u001b[0;32m----> 6\u001b[0;31m \u001b[0;32mfrom\u001b[0m \u001b[0;34m.\u001b[0m\u001b[0mrcmod\u001b[0m \u001b[0;32mimport\u001b[0m \u001b[0;34m*\u001b[0m\u001b[0;34m\u001b[0m\u001b[0;34m\u001b[0m\u001b[0m\n\u001b[0m\u001b[1;32m      7\u001b[0m \u001b[0;32mfrom\u001b[0m \u001b[0;34m.\u001b[0m\u001b[0mutils\u001b[0m \u001b[0;32mimport\u001b[0m \u001b[0;34m*\u001b[0m\u001b[0;34m\u001b[0m\u001b[0;34m\u001b[0m\u001b[0m\n\u001b[1;32m      8\u001b[0m \u001b[0;32mfrom\u001b[0m \u001b[0;34m.\u001b[0m\u001b[0mpalettes\u001b[0m \u001b[0;32mimport\u001b[0m \u001b[0;34m*\u001b[0m\u001b[0;34m\u001b[0m\u001b[0;34m\u001b[0m\u001b[0m\n",
      "\u001b[0;32m~/anaconda3/lib/python3.6/site-packages/seaborn/rcmod.py\u001b[0m in \u001b[0;36m<module>\u001b[0;34m()\u001b[0m\n\u001b[1;32m      6\u001b[0m \u001b[0;32mimport\u001b[0m \u001b[0mmatplotlib\u001b[0m \u001b[0;32mas\u001b[0m \u001b[0mmpl\u001b[0m\u001b[0;34m\u001b[0m\u001b[0;34m\u001b[0m\u001b[0m\n\u001b[1;32m      7\u001b[0m \u001b[0;34m\u001b[0m\u001b[0m\n\u001b[0;32m----> 8\u001b[0;31m \u001b[0;32mfrom\u001b[0m \u001b[0;34m.\u001b[0m \u001b[0;32mimport\u001b[0m \u001b[0mpalettes\u001b[0m\u001b[0;34m,\u001b[0m \u001b[0m_orig_rc_params\u001b[0m\u001b[0;34m\u001b[0m\u001b[0;34m\u001b[0m\u001b[0m\n\u001b[0m\u001b[1;32m      9\u001b[0m \u001b[0;34m\u001b[0m\u001b[0m\n\u001b[1;32m     10\u001b[0m \u001b[0;34m\u001b[0m\u001b[0m\n",
      "\u001b[0;32m~/anaconda3/lib/python3.6/site-packages/seaborn/palettes.py\u001b[0m in \u001b[0;36m<module>\u001b[0;34m()\u001b[0m\n\u001b[1;32m     10\u001b[0m \u001b[0;32mfrom\u001b[0m \u001b[0;34m.\u001b[0m\u001b[0mexternal\u001b[0m\u001b[0;34m.\u001b[0m\u001b[0msix\u001b[0m\u001b[0;34m.\u001b[0m\u001b[0mmoves\u001b[0m \u001b[0;32mimport\u001b[0m \u001b[0mrange\u001b[0m\u001b[0;34m\u001b[0m\u001b[0;34m\u001b[0m\u001b[0m\n\u001b[1;32m     11\u001b[0m \u001b[0;34m\u001b[0m\u001b[0m\n\u001b[0;32m---> 12\u001b[0;31m \u001b[0;32mfrom\u001b[0m \u001b[0;34m.\u001b[0m\u001b[0mutils\u001b[0m \u001b[0;32mimport\u001b[0m \u001b[0mdesaturate\u001b[0m\u001b[0;34m,\u001b[0m \u001b[0mset_hls_values\u001b[0m\u001b[0;34m,\u001b[0m \u001b[0mget_color_cycle\u001b[0m\u001b[0;34m\u001b[0m\u001b[0;34m\u001b[0m\u001b[0m\n\u001b[0m\u001b[1;32m     13\u001b[0m \u001b[0;32mfrom\u001b[0m \u001b[0;34m.\u001b[0m\u001b[0mxkcd_rgb\u001b[0m \u001b[0;32mimport\u001b[0m \u001b[0mxkcd_rgb\u001b[0m\u001b[0;34m\u001b[0m\u001b[0;34m\u001b[0m\u001b[0m\n\u001b[1;32m     14\u001b[0m \u001b[0;32mfrom\u001b[0m \u001b[0;34m.\u001b[0m\u001b[0mcrayons\u001b[0m \u001b[0;32mimport\u001b[0m \u001b[0mcrayons\u001b[0m\u001b[0;34m\u001b[0m\u001b[0;34m\u001b[0m\u001b[0m\n",
      "\u001b[0;32m~/anaconda3/lib/python3.6/site-packages/seaborn/utils.py\u001b[0m in \u001b[0;36m<module>\u001b[0;34m()\u001b[0m\n\u001b[1;32m      6\u001b[0m \u001b[0;34m\u001b[0m\u001b[0m\n\u001b[1;32m      7\u001b[0m \u001b[0;32mimport\u001b[0m \u001b[0mnumpy\u001b[0m \u001b[0;32mas\u001b[0m \u001b[0mnp\u001b[0m\u001b[0;34m\u001b[0m\u001b[0;34m\u001b[0m\u001b[0m\n\u001b[0;32m----> 8\u001b[0;31m \u001b[0;32mfrom\u001b[0m \u001b[0mscipy\u001b[0m \u001b[0;32mimport\u001b[0m \u001b[0mstats\u001b[0m\u001b[0;34m\u001b[0m\u001b[0;34m\u001b[0m\u001b[0m\n\u001b[0m\u001b[1;32m      9\u001b[0m \u001b[0;32mimport\u001b[0m \u001b[0mpandas\u001b[0m \u001b[0;32mas\u001b[0m \u001b[0mpd\u001b[0m\u001b[0;34m\u001b[0m\u001b[0;34m\u001b[0m\u001b[0m\n\u001b[1;32m     10\u001b[0m \u001b[0;32mimport\u001b[0m \u001b[0mmatplotlib\u001b[0m \u001b[0;32mas\u001b[0m \u001b[0mmpl\u001b[0m\u001b[0;34m\u001b[0m\u001b[0;34m\u001b[0m\u001b[0m\n",
      "\u001b[0;32m~/anaconda3/lib/python3.6/site-packages/scipy/stats/__init__.py\u001b[0m in \u001b[0;36m<module>\u001b[0;34m()\u001b[0m\n\u001b[1;32m    386\u001b[0m \u001b[0;34m\u001b[0m\u001b[0m\n\u001b[1;32m    387\u001b[0m \"\"\"\n\u001b[0;32m--> 388\u001b[0;31m \u001b[0;32mfrom\u001b[0m \u001b[0;34m.\u001b[0m\u001b[0mstats\u001b[0m \u001b[0;32mimport\u001b[0m \u001b[0;34m*\u001b[0m\u001b[0;34m\u001b[0m\u001b[0;34m\u001b[0m\u001b[0m\n\u001b[0m\u001b[1;32m    389\u001b[0m \u001b[0;32mfrom\u001b[0m \u001b[0;34m.\u001b[0m\u001b[0mdistributions\u001b[0m \u001b[0;32mimport\u001b[0m \u001b[0;34m*\u001b[0m\u001b[0;34m\u001b[0m\u001b[0;34m\u001b[0m\u001b[0m\n\u001b[1;32m    390\u001b[0m \u001b[0;32mfrom\u001b[0m \u001b[0;34m.\u001b[0m\u001b[0mmorestats\u001b[0m \u001b[0;32mimport\u001b[0m \u001b[0;34m*\u001b[0m\u001b[0;34m\u001b[0m\u001b[0;34m\u001b[0m\u001b[0m\n",
      "\u001b[0;32m~/anaconda3/lib/python3.6/site-packages/scipy/stats/stats.py\u001b[0m in \u001b[0;36m<module>\u001b[0;34m()\u001b[0m\n\u001b[1;32m    174\u001b[0m \u001b[0;32mfrom\u001b[0m \u001b[0mscipy\u001b[0m\u001b[0;34m.\u001b[0m\u001b[0mspatial\u001b[0m\u001b[0;34m.\u001b[0m\u001b[0mdistance\u001b[0m \u001b[0;32mimport\u001b[0m \u001b[0mcdist\u001b[0m\u001b[0;34m\u001b[0m\u001b[0;34m\u001b[0m\u001b[0m\n\u001b[1;32m    175\u001b[0m \u001b[0;32mfrom\u001b[0m \u001b[0mscipy\u001b[0m\u001b[0;34m.\u001b[0m\u001b[0mndimage\u001b[0m \u001b[0;32mimport\u001b[0m \u001b[0mmeasurements\u001b[0m\u001b[0;34m\u001b[0m\u001b[0;34m\u001b[0m\u001b[0m\n\u001b[0;32m--> 176\u001b[0;31m from scipy._lib._util import (_lazywhere, check_random_state, MapWrapper,\n\u001b[0m\u001b[1;32m    177\u001b[0m                               rng_integers, float_factorial)\n\u001b[1;32m    178\u001b[0m \u001b[0;32mimport\u001b[0m \u001b[0mscipy\u001b[0m\u001b[0;34m.\u001b[0m\u001b[0mspecial\u001b[0m \u001b[0;32mas\u001b[0m \u001b[0mspecial\u001b[0m\u001b[0;34m\u001b[0m\u001b[0;34m\u001b[0m\u001b[0m\n",
      "\u001b[0;31mImportError\u001b[0m: cannot import name 'MapWrapper'"
     ]
    }
   ],
   "source": [
    "import pandas as pd\n",
    "import numpy as np \n",
    "import matplotlib.pyplot as plt\n",
    "import seaborn as sns\n",
    "import re\n",
    "import clean_preprocess_white_house as cpp_wh\n",
    "from collections import defaultdict\n",
    "\n",
    "import nltk\n",
    "from nltk.corpus import stopwords, wordnet\n",
    "from nltk.stem import WordNetLemmatizer\n",
    "from nltk import pos_tag\n",
    "\n",
    "import spacy\n",
    "nlp = spacy.load('en', disable=['parser', 'ner'])\n",
    "\n",
    "from textblob import TextBlob, Word\n",
    "\n",
    "pd.set_option('mode.chained_assignment', None)"
   ]
  },
  {
   "cell_type": "code",
   "execution_count": 26,
   "metadata": {},
   "outputs": [
    {
     "ename": "SyntaxError",
     "evalue": "invalid syntax (<ipython-input-26-061961052581>, line 7)",
     "output_type": "error",
     "traceback": [
      "\u001b[0;36m  File \u001b[0;32m\"<ipython-input-26-061961052581>\"\u001b[0;36m, line \u001b[0;32m7\u001b[0m\n\u001b[0;31m    words_and_tags = [(w, tag_dict.get(pos[0], 'n') for w, pos in sent.tags)]\u001b[0m\n\u001b[0m                                                      ^\u001b[0m\n\u001b[0;31mSyntaxError\u001b[0m\u001b[0;31m:\u001b[0m invalid syntax\n"
     ]
    }
   ],
   "source": [
    "def lemmatize_with_postag_wordblob(text):\n",
    "    sent = TextBlob(text)\n",
    "    tag_dict = {'J':'a', \n",
    "                'N':'n', \n",
    "                'V':'v',\n",
    "                'R':'r'}\n",
    "    words_and_tags = [(w, tag_dict.get(pos[0], 'n') for w, pos in sent.tags)]\n",
    "    lemmatized_list = [wd.lemmatize(tag) for wd, tag in words_and_tags]\n",
    "    return lemmatized_list"
   ]
  },
  {
   "cell_type": "code",
   "execution_count": 2,
   "metadata": {},
   "outputs": [
    {
     "name": "stdout",
     "output_type": "stream",
     "text": [
      "(86744, 6)\n"
     ]
    }
   ],
   "source": [
    "whitehouse = pd.read_csv('whitehouse-for-preprocessing.csv')\n",
    "print(whitehouse.shape)"
   ]
  },
  {
   "cell_type": "code",
   "execution_count": 3,
   "metadata": {
    "scrolled": true
   },
   "outputs": [
    {
     "data": {
      "text/html": [
       "<div>\n",
       "<style>\n",
       "    .dataframe thead tr:only-child th {\n",
       "        text-align: right;\n",
       "    }\n",
       "\n",
       "    .dataframe thead th {\n",
       "        text-align: left;\n",
       "    }\n",
       "\n",
       "    .dataframe tbody tr th {\n",
       "        vertical-align: top;\n",
       "    }\n",
       "</style>\n",
       "<table border=\"1\" class=\"dataframe\">\n",
       "  <thead>\n",
       "    <tr style=\"text-align: right;\">\n",
       "      <th></th>\n",
       "      <th>title</th>\n",
       "      <th>date</th>\n",
       "      <th>doc_id</th>\n",
       "      <th>speaker</th>\n",
       "      <th>text</th>\n",
       "      <th>link</th>\n",
       "    </tr>\n",
       "  </thead>\n",
       "  <tbody>\n",
       "    <tr>\n",
       "      <th>0</th>\n",
       "      <td>Remarks by Press Secretary Kayleigh McEnany</td>\n",
       "      <td>2021-01-07</td>\n",
       "      <td>0.0</td>\n",
       "      <td>MS MCENANY</td>\n",
       "      <td>I am here to deliver this message on behalf o...</td>\n",
       "      <td>https://www.whitehouse.gov/briefings-statement...</td>\n",
       "    </tr>\n",
       "    <tr>\n",
       "      <th>1</th>\n",
       "      <td>Remarks by Vice President Pence at the Space F...</td>\n",
       "      <td>2020-12-18</td>\n",
       "      <td>1.0</td>\n",
       "      <td>THE VICE PRESIDENT</td>\n",
       "      <td>Well, thank you all for being here today. To ...</td>\n",
       "      <td>https://www.whitehouse.gov/briefings-statement...</td>\n",
       "    </tr>\n",
       "    <tr>\n",
       "      <th>2</th>\n",
       "      <td>Remarks by Vice President Pence at a Safe and ...</td>\n",
       "      <td>2020-12-18</td>\n",
       "      <td>2.0</td>\n",
       "      <td>THE VICE PRESIDENT</td>\n",
       "      <td>Well, good morning. And thank you all for bei...</td>\n",
       "      <td>https://www.whitehouse.gov/briefings-statement...</td>\n",
       "    </tr>\n",
       "    <tr>\n",
       "      <th>3</th>\n",
       "      <td>Remarks by Vice President Pence at a Life is W...</td>\n",
       "      <td>2020-12-16</td>\n",
       "      <td>3.0</td>\n",
       "      <td>THE VICE PRESIDENT</td>\n",
       "      <td>Thank you. Thank you all. Thank you all very ...</td>\n",
       "      <td>https://www.whitehouse.gov/briefings-statement...</td>\n",
       "    </tr>\n",
       "    <tr>\n",
       "      <th>4</th>\n",
       "      <td>Remarks by Vice President Pence at a Roundtabl...</td>\n",
       "      <td>2020-12-15</td>\n",
       "      <td>4.0</td>\n",
       "      <td>THE VICE PRESIDENT</td>\n",
       "      <td>Well, let me — let me let — let me let people...</td>\n",
       "      <td>https://www.whitehouse.gov/briefings-statement...</td>\n",
       "    </tr>\n",
       "  </tbody>\n",
       "</table>\n",
       "</div>"
      ],
      "text/plain": [
       "                                               title        date  doc_id  \\\n",
       "0        Remarks by Press Secretary Kayleigh McEnany  2021-01-07     0.0   \n",
       "1  Remarks by Vice President Pence at the Space F...  2020-12-18     1.0   \n",
       "2  Remarks by Vice President Pence at a Safe and ...  2020-12-18     2.0   \n",
       "3  Remarks by Vice President Pence at a Life is W...  2020-12-16     3.0   \n",
       "4  Remarks by Vice President Pence at a Roundtabl...  2020-12-15     4.0   \n",
       "\n",
       "              speaker                                               text  \\\n",
       "0          MS MCENANY   I am here to deliver this message on behalf o...   \n",
       "1  THE VICE PRESIDENT   Well, thank you all for being here today. To ...   \n",
       "2  THE VICE PRESIDENT   Well, good morning. And thank you all for bei...   \n",
       "3  THE VICE PRESIDENT   Thank you. Thank you all. Thank you all very ...   \n",
       "4  THE VICE PRESIDENT   Well, let me — let me let — let me let people...   \n",
       "\n",
       "                                                link  \n",
       "0  https://www.whitehouse.gov/briefings-statement...  \n",
       "1  https://www.whitehouse.gov/briefings-statement...  \n",
       "2  https://www.whitehouse.gov/briefings-statement...  \n",
       "3  https://www.whitehouse.gov/briefings-statement...  \n",
       "4  https://www.whitehouse.gov/briefings-statement...  "
      ]
     },
     "execution_count": 3,
     "metadata": {},
     "output_type": "execute_result"
    }
   ],
   "source": [
    "whitehouse.head()"
   ]
  },
  {
   "cell_type": "code",
   "execution_count": 4,
   "metadata": {
    "collapsed": true
   },
   "outputs": [],
   "source": [
    "whitehouse.date = pd.to_datetime(whitehouse.date)"
   ]
  },
  {
   "cell_type": "code",
   "execution_count": 5,
   "metadata": {},
   "outputs": [
    {
     "data": {
      "text/plain": [
       "title      0\n",
       "date       0\n",
       "doc_id     0\n",
       "speaker    0\n",
       "text       0\n",
       "link       0\n",
       "dtype: int64"
      ]
     },
     "execution_count": 5,
     "metadata": {},
     "output_type": "execute_result"
    }
   ],
   "source": [
    "whitehouse.isnull().sum()"
   ]
  },
  {
   "cell_type": "markdown",
   "metadata": {},
   "source": [
    "# Cleaning speakers\n",
    "\n",
    "The last bit of cleaning that I'm going to do is clean up the speakers column. There are speakers name's repeated in different forms that will be cleaned up. I also tried to organize some of the names the are \"Mr/Ms/Mrs (name)\" but didn't get to organize them completely for the sake of time. "
   ]
  },
  {
   "cell_type": "code",
   "execution_count": 6,
   "metadata": {
    "collapsed": true
   },
   "outputs": [],
   "source": [
    "whitehouse.speaker = whitehouse.speaker.str.strip()\n",
    "whitehouse.text = whitehouse.text.str.strip()"
   ]
  },
  {
   "cell_type": "code",
   "execution_count": 7,
   "metadata": {
    "scrolled": true
   },
   "outputs": [
    {
     "data": {
      "text/plain": [
       "2496"
      ]
     },
     "execution_count": 7,
     "metadata": {},
     "output_type": "execute_result"
    }
   ],
   "source": [
    "len(whitehouse.speaker.unique())"
   ]
  },
  {
   "cell_type": "code",
   "execution_count": 8,
   "metadata": {
    "scrolled": true
   },
   "outputs": [],
   "source": [
    "# changing repeating names to one name so that all instances of a speaker are under one name\n",
    "whitehouse.speaker = cpp_wh.conslidate_speaker_names(whitehouse.speaker)"
   ]
  },
  {
   "cell_type": "code",
   "execution_count": 9,
   "metadata": {
    "scrolled": true
   },
   "outputs": [],
   "source": [
    "whitehouse = whitehouse[whitehouse.speaker != 'CLARIFICATION']\n",
    "\n",
    "whitehouse.reset_index(drop=True, inplace=True)"
   ]
  },
  {
   "cell_type": "code",
   "execution_count": 10,
   "metadata": {
    "scrolled": false
   },
   "outputs": [
    {
     "data": {
      "text/plain": [
       "1378"
      ]
     },
     "execution_count": 10,
     "metadata": {},
     "output_type": "execute_result"
    }
   ],
   "source": [
    "len(whitehouse.speaker.unique())"
   ]
  },
  {
   "cell_type": "code",
   "execution_count": 11,
   "metadata": {
    "scrolled": true
   },
   "outputs": [
    {
     "data": {
      "text/html": [
       "<div>\n",
       "<style>\n",
       "    .dataframe thead tr:only-child th {\n",
       "        text-align: right;\n",
       "    }\n",
       "\n",
       "    .dataframe thead th {\n",
       "        text-align: left;\n",
       "    }\n",
       "\n",
       "    .dataframe tbody tr th {\n",
       "        vertical-align: top;\n",
       "    }\n",
       "</style>\n",
       "<table border=\"1\" class=\"dataframe\">\n",
       "  <thead>\n",
       "    <tr style=\"text-align: right;\">\n",
       "      <th></th>\n",
       "      <th>title</th>\n",
       "      <th>date</th>\n",
       "      <th>doc_id</th>\n",
       "      <th>speaker</th>\n",
       "      <th>text</th>\n",
       "      <th>link</th>\n",
       "    </tr>\n",
       "  </thead>\n",
       "  <tbody>\n",
       "    <tr>\n",
       "      <th>0</th>\n",
       "      <td>Remarks by Press Secretary Kayleigh McEnany</td>\n",
       "      <td>2021-01-07</td>\n",
       "      <td>0.0</td>\n",
       "      <td>KAYLEIGH MCENANY</td>\n",
       "      <td>I am here to deliver this message on behalf of...</td>\n",
       "      <td>https://www.whitehouse.gov/briefings-statement...</td>\n",
       "    </tr>\n",
       "    <tr>\n",
       "      <th>1</th>\n",
       "      <td>Remarks by Vice President Pence at the Space F...</td>\n",
       "      <td>2020-12-18</td>\n",
       "      <td>1.0</td>\n",
       "      <td>MIKE PENCE</td>\n",
       "      <td>Well, thank you all for being here today. To A...</td>\n",
       "      <td>https://www.whitehouse.gov/briefings-statement...</td>\n",
       "    </tr>\n",
       "    <tr>\n",
       "      <th>2</th>\n",
       "      <td>Remarks by Vice President Pence at a Safe and ...</td>\n",
       "      <td>2020-12-18</td>\n",
       "      <td>2.0</td>\n",
       "      <td>MIKE PENCE</td>\n",
       "      <td>Well, good morning. And thank you all for bein...</td>\n",
       "      <td>https://www.whitehouse.gov/briefings-statement...</td>\n",
       "    </tr>\n",
       "    <tr>\n",
       "      <th>3</th>\n",
       "      <td>Remarks by Vice President Pence at a Life is W...</td>\n",
       "      <td>2020-12-16</td>\n",
       "      <td>3.0</td>\n",
       "      <td>MIKE PENCE</td>\n",
       "      <td>Thank you. Thank you all. Thank you all very m...</td>\n",
       "      <td>https://www.whitehouse.gov/briefings-statement...</td>\n",
       "    </tr>\n",
       "    <tr>\n",
       "      <th>4</th>\n",
       "      <td>Remarks by Vice President Pence at a Roundtabl...</td>\n",
       "      <td>2020-12-15</td>\n",
       "      <td>4.0</td>\n",
       "      <td>MIKE PENCE</td>\n",
       "      <td>Well, let me — let me let — let me let people ...</td>\n",
       "      <td>https://www.whitehouse.gov/briefings-statement...</td>\n",
       "    </tr>\n",
       "  </tbody>\n",
       "</table>\n",
       "</div>"
      ],
      "text/plain": [
       "                                               title       date  doc_id  \\\n",
       "0        Remarks by Press Secretary Kayleigh McEnany 2021-01-07     0.0   \n",
       "1  Remarks by Vice President Pence at the Space F... 2020-12-18     1.0   \n",
       "2  Remarks by Vice President Pence at a Safe and ... 2020-12-18     2.0   \n",
       "3  Remarks by Vice President Pence at a Life is W... 2020-12-16     3.0   \n",
       "4  Remarks by Vice President Pence at a Roundtabl... 2020-12-15     4.0   \n",
       "\n",
       "            speaker                                               text  \\\n",
       "0  KAYLEIGH MCENANY  I am here to deliver this message on behalf of...   \n",
       "1        MIKE PENCE  Well, thank you all for being here today. To A...   \n",
       "2        MIKE PENCE  Well, good morning. And thank you all for bein...   \n",
       "3        MIKE PENCE  Thank you. Thank you all. Thank you all very m...   \n",
       "4        MIKE PENCE  Well, let me — let me let — let me let people ...   \n",
       "\n",
       "                                                link  \n",
       "0  https://www.whitehouse.gov/briefings-statement...  \n",
       "1  https://www.whitehouse.gov/briefings-statement...  \n",
       "2  https://www.whitehouse.gov/briefings-statement...  \n",
       "3  https://www.whitehouse.gov/briefings-statement...  \n",
       "4  https://www.whitehouse.gov/briefings-statement...  "
      ]
     },
     "execution_count": 11,
     "metadata": {},
     "output_type": "execute_result"
    }
   ],
   "source": [
    "whitehouse.head()"
   ]
  },
  {
   "cell_type": "code",
   "execution_count": 12,
   "metadata": {},
   "outputs": [
    {
     "data": {
      "text/plain": [
       "PRESS CORPS                        28512\n",
       "DONALD TRUMP                       26190\n",
       "SARAH SANDERS                       5177\n",
       "SEAN SPICER                         3427\n",
       "SENIOR ADMINISTRATION OFFICIALS     3416\n",
       "MIKE PENCE                          2561\n",
       "KAYLEIGH MCENANY                    1682\n",
       "FOREIGN GOVERNMENT LEADERS          1225\n",
       "AUDIENCE                            1217\n",
       "MILITARY FIGURE                      956\n",
       "CONGRESSPERSONS                      756\n",
       "STATE SENATORS                       676\n",
       "MILITARY FIGURES                     632\n",
       "DOCTOR, MEDICAL OR PHD               523\n",
       "FOREIGN AMBASSADORS                  421\n",
       "Name: speaker, dtype: int64"
      ]
     },
     "execution_count": 12,
     "metadata": {},
     "output_type": "execute_result"
    }
   ],
   "source": [
    "# so got the number of speakers down by over 1000, \n",
    "# could work on making that even smaller at a later time\n",
    "whitehouse.speaker.value_counts().head(15)"
   ]
  },
  {
   "cell_type": "code",
   "execution_count": 13,
   "metadata": {},
   "outputs": [
    {
     "data": {
      "text/plain": [
       "(699, 6)"
      ]
     },
     "execution_count": 13,
     "metadata": {},
     "output_type": "execute_result"
    }
   ],
   "source": [
    "whitehouse[whitehouse.text == ''].shape"
   ]
  },
  {
   "cell_type": "code",
   "execution_count": 14,
   "metadata": {
    "scrolled": true
   },
   "outputs": [
    {
     "data": {
      "text/plain": [
       "title        0\n",
       "date         0\n",
       "doc_id       0\n",
       "speaker      0\n",
       "text       699\n",
       "link         0\n",
       "dtype: int64"
      ]
     },
     "execution_count": 14,
     "metadata": {},
     "output_type": "execute_result"
    }
   ],
   "source": [
    "whitehouse.text.replace('', np.nan, inplace=True)\n",
    "\n",
    "whitehouse.isnull().sum()"
   ]
  },
  {
   "cell_type": "code",
   "execution_count": 15,
   "metadata": {
    "collapsed": true
   },
   "outputs": [],
   "source": [
    "whitehouse.dropna(subset=['text'], inplace=True)\n",
    "whitehouse.reset_index(drop=True, inplace=True)"
   ]
  },
  {
   "cell_type": "markdown",
   "metadata": {},
   "source": [
    "# Preprocessing text"
   ]
  },
  {
   "cell_type": "code",
   "execution_count": 16,
   "metadata": {
    "scrolled": true
   },
   "outputs": [
    {
     "name": "stdout",
     "output_type": "stream",
     "text": [
      "<class 'pandas.core.frame.DataFrame'>\n",
      "RangeIndex: 86044 entries, 0 to 86043\n",
      "Data columns (total 6 columns):\n",
      "title      86044 non-null object\n",
      "date       86044 non-null datetime64[ns]\n",
      "doc_id     86044 non-null float64\n",
      "speaker    86044 non-null object\n",
      "text       86044 non-null object\n",
      "link       86044 non-null object\n",
      "dtypes: datetime64[ns](1), float64(1), object(4)\n",
      "memory usage: 3.9+ MB\n"
     ]
    }
   ],
   "source": [
    "whitehouse.info()"
   ]
  },
  {
   "cell_type": "code",
   "execution_count": 17,
   "metadata": {},
   "outputs": [
    {
     "data": {
      "text/plain": [
       "(86044, 6)"
      ]
     },
     "execution_count": 17,
     "metadata": {},
     "output_type": "execute_result"
    }
   ],
   "source": [
    "whitehouse.shape"
   ]
  },
  {
   "cell_type": "code",
   "execution_count": 18,
   "metadata": {
    "scrolled": true
   },
   "outputs": [
    {
     "data": {
      "text/html": [
       "<div>\n",
       "<style>\n",
       "    .dataframe thead tr:only-child th {\n",
       "        text-align: right;\n",
       "    }\n",
       "\n",
       "    .dataframe thead th {\n",
       "        text-align: left;\n",
       "    }\n",
       "\n",
       "    .dataframe tbody tr th {\n",
       "        vertical-align: top;\n",
       "    }\n",
       "</style>\n",
       "<table border=\"1\" class=\"dataframe\">\n",
       "  <thead>\n",
       "    <tr style=\"text-align: right;\">\n",
       "      <th></th>\n",
       "      <th>title</th>\n",
       "      <th>date</th>\n",
       "      <th>doc_id</th>\n",
       "      <th>speaker</th>\n",
       "      <th>text</th>\n",
       "      <th>link</th>\n",
       "    </tr>\n",
       "  </thead>\n",
       "  <tbody>\n",
       "    <tr>\n",
       "      <th>86039</th>\n",
       "      <td>Press Briefing by Press Secretary Sean Spicer</td>\n",
       "      <td>2017-02-01</td>\n",
       "      <td>2275.0</td>\n",
       "      <td>PRESS CORPS</td>\n",
       "      <td>The request from Democrats to investigate Flyn...</td>\n",
       "      <td>https://www.whitehouse.gov/briefings-statement...</td>\n",
       "    </tr>\n",
       "    <tr>\n",
       "      <th>86040</th>\n",
       "      <td>Press Briefing by Press Secretary Sean Spicer</td>\n",
       "      <td>2017-02-01</td>\n",
       "      <td>2275.0</td>\n",
       "      <td>SEAN SPICER</td>\n",
       "      <td>Yeah, so General Flynn, like I think probably ...</td>\n",
       "      <td>https://www.whitehouse.gov/briefings-statement...</td>\n",
       "    </tr>\n",
       "    <tr>\n",
       "      <th>86041</th>\n",
       "      <td>Press Briefing by Press Secretary Sean Spicer</td>\n",
       "      <td>2017-02-01</td>\n",
       "      <td>2275.0</td>\n",
       "      <td>PRESS CORPS</td>\n",
       "      <td>Thanks, Sean. General Flynn, when he was up he...</td>\n",
       "      <td>https://www.whitehouse.gov/briefings-statement...</td>\n",
       "    </tr>\n",
       "    <tr>\n",
       "      <th>86042</th>\n",
       "      <td>Press Briefing by Press Secretary Sean Spicer</td>\n",
       "      <td>2017-02-01</td>\n",
       "      <td>2275.0</td>\n",
       "      <td>SEAN SPICER</td>\n",
       "      <td>I think in area where there’s going to be a sh...</td>\n",
       "      <td>https://www.whitehouse.gov/briefings-statement...</td>\n",
       "    </tr>\n",
       "    <tr>\n",
       "      <th>86043</th>\n",
       "      <td>Statement by Press Secretary Sean Spicer</td>\n",
       "      <td>2017-01-21</td>\n",
       "      <td>2276.0</td>\n",
       "      <td>SEAN SPICER</td>\n",
       "      <td>Good evening. Thank you guys for coming. I kno...</td>\n",
       "      <td>https://www.whitehouse.gov/briefings-statement...</td>\n",
       "    </tr>\n",
       "  </tbody>\n",
       "</table>\n",
       "</div>"
      ],
      "text/plain": [
       "                                               title       date  doc_id  \\\n",
       "86039  Press Briefing by Press Secretary Sean Spicer 2017-02-01  2275.0   \n",
       "86040  Press Briefing by Press Secretary Sean Spicer 2017-02-01  2275.0   \n",
       "86041  Press Briefing by Press Secretary Sean Spicer 2017-02-01  2275.0   \n",
       "86042  Press Briefing by Press Secretary Sean Spicer 2017-02-01  2275.0   \n",
       "86043       Statement by Press Secretary Sean Spicer 2017-01-21  2276.0   \n",
       "\n",
       "           speaker                                               text  \\\n",
       "86039  PRESS CORPS  The request from Democrats to investigate Flyn...   \n",
       "86040  SEAN SPICER  Yeah, so General Flynn, like I think probably ...   \n",
       "86041  PRESS CORPS  Thanks, Sean. General Flynn, when he was up he...   \n",
       "86042  SEAN SPICER  I think in area where there’s going to be a sh...   \n",
       "86043  SEAN SPICER  Good evening. Thank you guys for coming. I kno...   \n",
       "\n",
       "                                                    link  \n",
       "86039  https://www.whitehouse.gov/briefings-statement...  \n",
       "86040  https://www.whitehouse.gov/briefings-statement...  \n",
       "86041  https://www.whitehouse.gov/briefings-statement...  \n",
       "86042  https://www.whitehouse.gov/briefings-statement...  \n",
       "86043  https://www.whitehouse.gov/briefings-statement...  "
      ]
     },
     "execution_count": 18,
     "metadata": {},
     "output_type": "execute_result"
    }
   ],
   "source": [
    "whitehouse.tail()"
   ]
  },
  {
   "cell_type": "code",
   "execution_count": 19,
   "metadata": {
    "collapsed": true
   },
   "outputs": [],
   "source": [
    "# tokenizing texts \n",
    "\n",
    "whitehouse['text_tokens'] = whitehouse.text.map(cpp_wh.tokenize_data)"
   ]
  },
  {
   "cell_type": "code",
   "execution_count": 20,
   "metadata": {},
   "outputs": [
    {
     "data": {
      "text/html": [
       "<div>\n",
       "<style>\n",
       "    .dataframe thead tr:only-child th {\n",
       "        text-align: right;\n",
       "    }\n",
       "\n",
       "    .dataframe thead th {\n",
       "        text-align: left;\n",
       "    }\n",
       "\n",
       "    .dataframe tbody tr th {\n",
       "        vertical-align: top;\n",
       "    }\n",
       "</style>\n",
       "<table border=\"1\" class=\"dataframe\">\n",
       "  <thead>\n",
       "    <tr style=\"text-align: right;\">\n",
       "      <th></th>\n",
       "      <th>title</th>\n",
       "      <th>date</th>\n",
       "      <th>doc_id</th>\n",
       "      <th>speaker</th>\n",
       "      <th>text</th>\n",
       "      <th>link</th>\n",
       "      <th>text_tokens</th>\n",
       "    </tr>\n",
       "  </thead>\n",
       "  <tbody>\n",
       "    <tr>\n",
       "      <th>0</th>\n",
       "      <td>Remarks by Press Secretary Kayleigh McEnany</td>\n",
       "      <td>2021-01-07</td>\n",
       "      <td>0.0</td>\n",
       "      <td>KAYLEIGH MCENANY</td>\n",
       "      <td>I am here to deliver this message on behalf of...</td>\n",
       "      <td>https://www.whitehouse.gov/briefings-statement...</td>\n",
       "      <td>[here, deliver, this, message, behalf, the, en...</td>\n",
       "    </tr>\n",
       "    <tr>\n",
       "      <th>1</th>\n",
       "      <td>Remarks by Vice President Pence at the Space F...</td>\n",
       "      <td>2020-12-18</td>\n",
       "      <td>1.0</td>\n",
       "      <td>MIKE PENCE</td>\n",
       "      <td>Well, thank you all for being here today. To A...</td>\n",
       "      <td>https://www.whitehouse.gov/briefings-statement...</td>\n",
       "      <td>[well, thank, you, all, for, being, here, toda...</td>\n",
       "    </tr>\n",
       "    <tr>\n",
       "      <th>2</th>\n",
       "      <td>Remarks by Vice President Pence at a Safe and ...</td>\n",
       "      <td>2020-12-18</td>\n",
       "      <td>2.0</td>\n",
       "      <td>MIKE PENCE</td>\n",
       "      <td>Well, good morning. And thank you all for bein...</td>\n",
       "      <td>https://www.whitehouse.gov/briefings-statement...</td>\n",
       "      <td>[well, good, morning, and, thank, you, all, fo...</td>\n",
       "    </tr>\n",
       "    <tr>\n",
       "      <th>3</th>\n",
       "      <td>Remarks by Vice President Pence at a Life is W...</td>\n",
       "      <td>2020-12-16</td>\n",
       "      <td>3.0</td>\n",
       "      <td>MIKE PENCE</td>\n",
       "      <td>Thank you. Thank you all. Thank you all very m...</td>\n",
       "      <td>https://www.whitehouse.gov/briefings-statement...</td>\n",
       "      <td>[thank, you, thank, you, all, thank, you, all,...</td>\n",
       "    </tr>\n",
       "    <tr>\n",
       "      <th>4</th>\n",
       "      <td>Remarks by Vice President Pence at a Roundtabl...</td>\n",
       "      <td>2020-12-15</td>\n",
       "      <td>4.0</td>\n",
       "      <td>MIKE PENCE</td>\n",
       "      <td>Well, let me — let me let — let me let people ...</td>\n",
       "      <td>https://www.whitehouse.gov/briefings-statement...</td>\n",
       "      <td>[well, let, let, let, let, let, people, hear, ...</td>\n",
       "    </tr>\n",
       "  </tbody>\n",
       "</table>\n",
       "</div>"
      ],
      "text/plain": [
       "                                               title       date  doc_id  \\\n",
       "0        Remarks by Press Secretary Kayleigh McEnany 2021-01-07     0.0   \n",
       "1  Remarks by Vice President Pence at the Space F... 2020-12-18     1.0   \n",
       "2  Remarks by Vice President Pence at a Safe and ... 2020-12-18     2.0   \n",
       "3  Remarks by Vice President Pence at a Life is W... 2020-12-16     3.0   \n",
       "4  Remarks by Vice President Pence at a Roundtabl... 2020-12-15     4.0   \n",
       "\n",
       "            speaker                                               text  \\\n",
       "0  KAYLEIGH MCENANY  I am here to deliver this message on behalf of...   \n",
       "1        MIKE PENCE  Well, thank you all for being here today. To A...   \n",
       "2        MIKE PENCE  Well, good morning. And thank you all for bein...   \n",
       "3        MIKE PENCE  Thank you. Thank you all. Thank you all very m...   \n",
       "4        MIKE PENCE  Well, let me — let me let — let me let people ...   \n",
       "\n",
       "                                                link  \\\n",
       "0  https://www.whitehouse.gov/briefings-statement...   \n",
       "1  https://www.whitehouse.gov/briefings-statement...   \n",
       "2  https://www.whitehouse.gov/briefings-statement...   \n",
       "3  https://www.whitehouse.gov/briefings-statement...   \n",
       "4  https://www.whitehouse.gov/briefings-statement...   \n",
       "\n",
       "                                         text_tokens  \n",
       "0  [here, deliver, this, message, behalf, the, en...  \n",
       "1  [well, thank, you, all, for, being, here, toda...  \n",
       "2  [well, good, morning, and, thank, you, all, fo...  \n",
       "3  [thank, you, thank, you, all, thank, you, all,...  \n",
       "4  [well, let, let, let, let, let, people, hear, ...  "
      ]
     },
     "execution_count": 20,
     "metadata": {},
     "output_type": "execute_result"
    }
   ],
   "source": [
    "whitehouse.head()"
   ]
  },
  {
   "cell_type": "code",
   "execution_count": 21,
   "metadata": {
    "collapsed": true
   },
   "outputs": [],
   "source": [
    "# going to test a few different lemmatizers to see which I prefer"
   ]
  },
  {
   "cell_type": "code",
   "execution_count": null,
   "metadata": {
    "collapsed": true
   },
   "outputs": [],
   "source": []
  }
 ],
 "metadata": {
  "kernelspec": {
   "display_name": "Python 3",
   "language": "python",
   "name": "python3"
  },
  "language_info": {
   "codemirror_mode": {
    "name": "ipython",
    "version": 3
   },
   "file_extension": ".py",
   "mimetype": "text/x-python",
   "name": "python",
   "nbconvert_exporter": "python",
   "pygments_lexer": "ipython3",
   "version": "3.6.11"
  }
 },
 "nbformat": 4,
 "nbformat_minor": 2
}
